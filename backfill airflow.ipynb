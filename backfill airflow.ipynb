{
 "cells": [
  {
   "cell_type": "markdown",
   "metadata": {},
   "source": [
    "# Import libraries and packages for the project"
   ]
  },
  {
   "cell_type": "code",
   "execution_count": null,
   "metadata": {},
   "outputs": [],
   "source": [
    "from playsound import playsound\n",
    "from selenium import webdriver\n",
    "from seleniumbase import Driver,SB\n",
    "import pickle\n",
    "from selenium.webdriver.common.keys import Keys\n",
    "from selenium.webdriver.common.action_chains import ActionChains\n",
    "from selenium.webdriver.support.ui import Select,WebDriverWait\n",
    "from selenium.webdriver.common.by import By\n",
    "from selenium.webdriver.support import expected_conditions as EC\n",
    "import pyperclip as pc\n",
    "from bs4 import BeautifulSoup\n",
    "from time import sleep\n",
    "from datetime import datetime\n",
    "import numpy as np\n",
    "import urllib.request as urllib2\n",
    "import pandas as pd\n",
    "import os,gspread,shutil,re,csv,requests\n",
    "from gspread_dataframe import set_with_dataframe\n",
    "from google.oauth2.service_account import Credentials\n",
    "from pydrive.auth import GoogleAuth\n",
    "from pydrive.drive import GoogleDrive"
   ]
  },
  {
   "cell_type": "markdown",
   "metadata": {},
   "source": [
    "# Load scope spreadsheets"
   ]
  },
  {
   "cell_type": "code",
   "execution_count": null,
   "metadata": {},
   "outputs": [],
   "source": [
    "scopes = ['https://www.googleapis.com/auth/spreadsheets',\n",
    "        'https://www.googleapis.com/auth/drive']\n",
    "\n",
    "credentials = Credentials.from_service_account_file('input your Service Account location', scopes=scopes)\n",
    "\n",
    "gc = gspread.authorize(credentials)\n",
    "\n",
    "gauth = GoogleAuth()\n",
    "drive = GoogleDrive(gauth)\n"
   ]
  },
  {
   "cell_type": "markdown",
   "metadata": {},
   "source": [
    "# Sign in account"
   ]
  },
  {
   "cell_type": "code",
   "execution_count": null,
   "metadata": {},
   "outputs": [],
   "source": [
    "# read account\n",
    "credential = open('account')\n",
    "line = credential.readlines()\n",
    "account = line[0]\n",
    "password = line[1]\n",
    "\n",
    "# sign in\n",
    "driver = webdriver.Firefox()\n",
    "driver.get(\"https://accounts.google.com/v3/signin/identifier?continue=https%3A%2F%2Fwww.google.com%2F&ec=GAZAmgQ&hl=vi&ifkv=AaSxoQzMRS_TyBbnD_yHhMMAFG9z6gxLjkjGw0Z1dB0k3A3rFt-rB6f88xbR4i19dmfNzyYRUiLj&passive=true&flowName=GlifWebSignIn&flowEntry=ServiceLogin&dsh=S-1996439744%3A1715770857086871&ddm=0\")\n",
    "sleep(2)\n",
    "# signin\n",
    "credential = open('account')\n",
    "line = credential.readlines()\n",
    "account = line[0]\n",
    "password = line[1]\n",
    "sleep(0.5)\n",
    "email_field = driver.find_element(By.XPATH,'//*[@id=\"identifierId\"]')\n",
    "input_email = email_field.send_keys(account)\n",
    "sleep(0.5)\n",
    "click_next = driver.find_element(By.XPATH,'//div[@id=\"identifierNext\"]').click()\n",
    "# try:\n",
    "#   capcha = input('input capcha: ')\n",
    "#   sleep(0.5)\n",
    "#   capcha_field = driver.find_element(By.XPATH,'//input[@id=\"ca\"]')\n",
    "#   input_capcha = capcha_field.send_keys(capcha)\n",
    "#   sleep(0.5)\n",
    "#   click_next = driver.find_element(By.XPATH,'//div[@id=\"identifierNext\"]').click()\n",
    "#   sleep(1)\n",
    "# except:\n",
    "#   sleep(1)\n",
    "sleep(4)\n",
    "password_field = driver.find_element(By.XPATH,'//input[@type=\"password\"]')\n",
    "input_password = password_field.send_keys(password)\n",
    "sleep(0.5)\n",
    "click_next = driver.find_element(By.XPATH,'//div[@id=\"passwordNext\"]').click()\n",
    "sleep(0.5)\n",
    "playsound('/Users/lap02651/Documents/codev2/code/Python/Sound/sound.mp3')\n",
    "sleep(1)\n",
    "#add code\n",
    "verify = input('Done Verify: ')"
   ]
  },
  {
   "cell_type": "markdown",
   "metadata": {},
   "source": [
    "# Input Infomation"
   ]
  },
  {
   "cell_type": "code",
   "execution_count": null,
   "metadata": {},
   "outputs": [],
   "source": [
    "# input date\n",
    "start_date = '2024-07-22'\n",
    "end_date = '2024-08-26'\n",
    "\n",
    "# input dag link\n",
    "dag_link = 'https://airlock.tiki.com.vn/trigger?dag_id=se_backfill_search_reco'"
   ]
  },
  {
   "cell_type": "markdown",
   "metadata": {},
   "source": [
    "# Create Date list"
   ]
  },
  {
   "cell_type": "code",
   "execution_count": null,
   "metadata": {},
   "outputs": [],
   "source": [
    "date_range = pd.date_range(start_date, end_date)\n",
    "\n",
    "# covert dataframe to list\n",
    "date_list = date_range.tolist()\n",
    "\n",
    "# create date_list\n",
    "dates = []\n",
    "for date in date_list:\n",
    "    dates.append(date.strftime('%Y-%m-%d'))\n",
    "\n",
    "print(dates)"
   ]
  },
  {
   "cell_type": "markdown",
   "metadata": {},
   "source": [
    "# Sign in DAG"
   ]
  },
  {
   "cell_type": "code",
   "execution_count": null,
   "metadata": {},
   "outputs": [],
   "source": [
    "driver.get(dag_link)\n",
    "sleep(2)\n",
    "click_signin = driver.find_element(By.XPATH,'//a[@type=\"submit\"]').click()\n",
    "sleep(1)\n",
    "driver.maximize_window()\n",
    "sleep(1)"
   ]
  },
  {
   "cell_type": "markdown",
   "metadata": {},
   "source": [
    "# Backfill "
   ]
  },
  {
   "cell_type": "code",
   "execution_count": null,
   "metadata": {},
   "outputs": [],
   "source": [
    "# action\n",
    "for date in dates[0:240]:\n",
    "  click_date_form = driver.find_element(By.XPATH,'//input[@id=\"execution_date\"]').click()\n",
    "  sleep(0.5)\n",
    "  ActionChains(driver).key_down(Keys.COMMAND).send_keys('a').key_up(Keys.COMMAND).perform()\n",
    "  sleep(0.5)\n",
    "  ActionChains(driver).key_down(Keys.DELETE).key_up(Keys.DELETE).perform()\n",
    "  sleep(0.5)\n",
    "  input_date = driver.find_element(By.XPATH,'//input[@id=\"execution_date\"]').send_keys(date)\n",
    "  # Drive to trigger button\n",
    "  element = driver.find_element(By.XPATH,'//button[@type=\"submit\"]')\n",
    "  driver.execute_script(\"arguments[0].scrollIntoView();\", element)\n",
    "  sleep(0.5)\n",
    "  click_trigger = driver.find_element(By.XPATH,'//button[@type=\"submit\"]').click()\n",
    "  sleep(3)\n",
    "  driver.get(dag_link)\n",
    "  print(f'Done {date}')\n",
    "  sleep(2)\n",
    "playsound('/Users/lap02651/Documents/codev2/code/Python/Sound/sound.mp3')"
   ]
  },
  {
   "cell_type": "markdown",
   "metadata": {},
   "source": [
    "# Close Firefox"
   ]
  },
  {
   "cell_type": "code",
   "execution_count": null,
   "metadata": {},
   "outputs": [],
   "source": [
    "driver.close()"
   ]
  }
 ],
 "metadata": {
  "kernelspec": {
   "display_name": "Python 3",
   "language": "python",
   "name": "python3"
  },
  "language_info": {
   "codemirror_mode": {
    "name": "ipython",
    "version": 3
   },
   "file_extension": ".py",
   "mimetype": "text/x-python",
   "name": "python",
   "nbconvert_exporter": "python",
   "pygments_lexer": "ipython3",
   "version": "3.12.0"
  }
 },
 "nbformat": 4,
 "nbformat_minor": 2
}
